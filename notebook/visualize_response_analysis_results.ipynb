{
 "cells": [
  {
   "cell_type": "code",
   "execution_count": null,
   "metadata": {},
   "outputs": [],
   "source": [
    "%cd ../"
   ]
  },
  {
   "cell_type": "code",
   "execution_count": null,
   "metadata": {},
   "outputs": [],
   "source": [
    "import numpy as np\n",
    "import json\n",
    "import matplotlib.pyplot as plt\n",
    "import seaborn as sns\n",
    "import pandas as pd\n",
    "from collections import defaultdict"
   ]
  },
  {
   "cell_type": "code",
   "execution_count": null,
   "metadata": {},
   "outputs": [],
   "source": [
    "def visualize_response(data_basename, filename, measure, ax=None):\n",
    "    data = defaultdict(list)\n",
    "    for noise_rate in [0.1, 0.2, 0.3, 0.4, 0.5]:\n",
    "        data_dir_ = data_basename + str(noise_rate) + \"/\"\n",
    "        results = json.load(open(data_dir_ + filename, \"r\"))\n",
    "        for result in results:\n",
    "            val = result[measure]\n",
    "            data[\"measure\"] += [measure]\n",
    "            data[\"noise_rate\"] += [noise_rate]\n",
    "            data[\"value\"] += [val]\n",
    "\n",
    "    df = pd.DataFrame(data)\n",
    "    sns.set(style=\"whitegrid\")\n",
    "    if ax is None:\n",
    "        _, ax = plt.subplots(1, 1, figsize=(5, 5))\n",
    "    sns.boxplot(x=\"noise_rate\", y=\"value\", hue=\"measure\", data=df, ax=ax)\n",
    "    ax.set_title(measure)\n",
    "    sns.despine()\n",
    "    # return fig\n"
   ]
  },
  {
   "cell_type": "code",
   "execution_count": null,
   "metadata": {},
   "outputs": [],
   "source": [
    "f, axes = plt.subplots(1, 3, figsize=(12, 5))\n",
    "visualize_response(\"data/results/response_analysis/small_spatial_and_label_noise/elem_noise_rate_\", \"results.json\", \"maximum_iou\", ax=axes[0])\n",
    "visualize_response(\"data/results/response_analysis/small_spatial_and_label_noise/elem_noise_rate_\", \"mmd.json\", \"mmd\", ax=axes[1])\n",
    "visualize_response(\"data/results/response_analysis/small_spatial_and_label_noise/elem_noise_rate_\", \"fid.json\", \"fid\", ax=axes[2])\n",
    "axes[0].set_ylabel(\"Value\")\n",
    "axes[1].set_ylabel(\"\")\n",
    "axes[2].set_ylabel(\"\")\n",
    "axes[0].set_xlabel(\"Noise Injection Rate\")\n",
    "axes[1].set_xlabel(\"Noise Injection Rate\")\n",
    "axes[2].set_xlabel(\"Noise Injection Rate\")\n",
    "axes[0].set_title(\"Max.IOU\")\n",
    "axes[1].set_title(\"LaTSim-MMD\")\n",
    "axes[2].set_title(\"FID\")\n",
    "plt.savefig(\"figs/response_analysis/small_spatial_and_label_noise_response_analysis.pdf\", bbox_inches=\"tight\")"
   ]
  },
  {
   "cell_type": "code",
   "execution_count": null,
   "metadata": {},
   "outputs": [],
   "source": [
    "from experiments.utils import layout_to_svg_image\n",
    "\n",
    "def display_noise_examples(num_examples=5):\n",
    "    h_size, w_size = 10/2, 7/2\n",
    "    f, axes = plt.subplots(num_examples, 6, figsize=(6*w_size, h_size*num_examples))\n",
    "    ref_file = \"data/cvpr2023_json/datasets/rico25/val.json\"\n",
    "    org_data = json.load(open(ref_file, \"r\"))\n",
    "    keys = np.random.choice(len(org_data[\"annotations\"].keys()), num_examples)\n",
    "    for i, key in enumerate(keys):\n",
    "        layout = list(org_data[\"annotations\"].values())[key]\n",
    "        layout_to_svg_image(layout, org_data[\"meta\"], size=(h_size, w_size), border_cfg={\"color\": (0.7, 0.7, 0.7), \"width\": 1}, show_labels=False, ax=axes[i,0])\n",
    "    axes[0,0].set_title(\"Original\")\n",
    "    base_dir = \"data/results/response_analysis/small_spatial_and_label_noise\"\n",
    "    for i, noise in enumerate([0.1, 0.2, 0.3, 0.4, 0.5]):\n",
    "        data_dir = base_dir + \"/elem_noise_rate_\" + str(noise)\n",
    "        file = data_dir + \"/data/0.json\"\n",
    "        data = json.load(open(file, \"r\"))\n",
    "        for j, key in enumerate(keys):\n",
    "            layout = data[key]\n",
    "            layout_to_svg_image(layout, org_data[\"meta\"], size=(h_size, w_size), border_cfg={\"color\": (0.7, 0.7, 0.7), \"width\": 1}, show_labels=False, ax=axes[j,i+1])\n",
    "        axes[0,i+1].set_title(\"Noise Rate: \" + str(noise))\n",
    "    return f\n",
    "\n",
    "f = display_noise_examples(3)\n",
    "plt.savefig(\"figs/response_analysis/small_spatial_and_label_noise_examples.pdf\", bbox_inches=\"tight\")"
   ]
  },
  {
   "cell_type": "code",
   "execution_count": null,
   "metadata": {},
   "outputs": [],
   "source": []
  }
 ],
 "metadata": {
  "kernelspec": {
   "display_name": ".venv",
   "language": "python",
   "name": "python3"
  },
  "language_info": {
   "codemirror_mode": {
    "name": "ipython",
    "version": 3
   },
   "file_extension": ".py",
   "mimetype": "text/x-python",
   "name": "python",
   "nbconvert_exporter": "python",
   "pygments_lexer": "ipython3",
   "version": "3.11.6"
  }
 },
 "nbformat": 4,
 "nbformat_minor": 2
}
