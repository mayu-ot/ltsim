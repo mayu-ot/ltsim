{
 "cells": [
  {
   "cell_type": "code",
   "execution_count": null,
   "metadata": {},
   "outputs": [],
   "source": [
    "%cd ../"
   ]
  },
  {
   "cell_type": "code",
   "execution_count": null,
   "metadata": {},
   "outputs": [],
   "source": [
    "import numpy as np\n",
    "from matplotlib import pyplot as plt\n",
    "import seaborn as sns\n",
    "import pandas as pd\n",
    "import json"
   ]
  },
  {
   "cell_type": "code",
   "execution_count": null,
   "metadata": {},
   "outputs": [],
   "source": [
    "def visualize_correlation(result_file):\n",
    "    data = json.load(open(result_file))\n",
    "    df = pd.DataFrame(data)\n",
    "    # reorder columns in the order of [docsim  maximum_iou  mean_iou fidsim ltsim]\n",
    "    df = df[['docsim', 'maximum_iou', 'mean_iou', 'fidsim', 'ltsim']]\n",
    "    \n",
    "    g = sns.pairplot(df.sample(1000), palette=\"Set2\")\n",
    "    corr = df.corr(method='kendall')\n",
    "    return g, corr\n",
    "\n",
    "def convert_to_latex(df_corr):\n",
    "    df_for_latex = df_corr.copy()\n",
    "    # replace diagonal with NaN\n",
    "    np.fill_diagonal(df_for_latex.values, np.nan)\n",
    "    df_for_latex = df_for_latex[[\"ltsim\", \"maximum_iou\", \"mean_iou\", \"fidsim\", \"docsim\"]]\n",
    "\n",
    "    measure_map = {\"docsim\": \"DocSim\", \"maximum_iou\": \"\\maxiou{}\", \"ltsim\": \"\\ourmeasure{}\", \"mean_iou\": \"MeanIoU\", \"fidsim\": \"\\deepsim{}\"}\n",
    "    df_for_latex.index = df_for_latex.index.map(measure_map)\n",
    "    df_for_latex.columns = df_for_latex.columns.map(measure_map)\n",
    "    styler = df_for_latex.style\\\n",
    "    .background_gradient(cmap='Blues', axis=None)\\\n",
    "    .highlight_null(props=\"background-color:white; color:white;\")\\\n",
    "    .format(na_rep='---', precision=2)\\\n",
    "    .applymap_index(lambda v: \"rotatebox:{60}--rwrap--latex; transform: rotate(-90deg) translateX(-32px); height:100px; max-width:25px\", axis=1)\n",
    "\n",
    "    print(styler.to_latex(\n",
    "    convert_css=True, hrules=True, position_float=\"centering\"\n",
    "    ))\n",
    "    return styler\n",
    "\n",
    "def convert_two_df_to_latex(df_corr_1, df_corr_2):\n",
    "    df_for_latex_1 = df_corr_1.copy()\n",
    "    # replace diagonal with NaN\n",
    "    np.fill_diagonal(df_for_latex_1.values, np.nan)\n",
    "    df_for_latex_1 = df_for_latex_1[[\"ltsim\", \"maximum_iou\", \"mean_iou\", \"fidsim\", \"docsim\"]]\n",
    "\n",
    "    df_for_latex_2 = df_corr_2.copy()\n",
    "    # replace diagonal with NaN\n",
    "    np.fill_diagonal(df_for_latex_2.values, np.nan)\n",
    "    df_for_latex_2 = df_for_latex_2[[\"ltsim\", \"maximum_iou\", \"mean_iou\", \"fidsim\", \"docsim\"]]\n",
    "\n",
    "    # horizontal concatenation\n",
    "    df_for_latex = pd.concat([df_for_latex_1, df_for_latex_2], axis=1)\n",
    "\n",
    "    measure_map = {\"docsim\": \"DocSim\", \"maximum_iou\": \"\\maxiou{}\", \"ltsim\": \"\\ourmeasure{}\", \"mean_iou\": \"MeanIoU\", \"fidsim\": \"\\deepsim{}\"}\n",
    "    df_for_latex.index = df_for_latex.index.map(measure_map)\n",
    "    df_for_latex.columns = df_for_latex.columns.map(measure_map)\n",
    "    styler = df_for_latex.style\\\n",
    "    .background_gradient(cmap='Blues', axis=None)\\\n",
    "    .highlight_null(props=\"background-color:white; color:white;\")\\\n",
    "    .format(na_rep='---', precision=2)\\\n",
    "    .applymap_index(lambda v: \"rotatebox:{60}--rwrap--latex; transform: rotate(-90deg) translateX(-32px); height:100px; max-width:25px\", axis=1)\n",
    "\n",
    "    print(styler.to_latex(\n",
    "    convert_css=True, hrules=True, position_float=\"centering\"\n",
    "    ))\n",
    "    return styler"
   ]
  },
  {
   "cell_type": "code",
   "execution_count": null,
   "metadata": {},
   "outputs": [],
   "source": [
    "g, df_corr_rico = visualize_correlation(\"data/results/correlation_analysis/rico25/w_constraint/sampled_similarity.json\")\n",
    "g, df_corr_publay = visualize_correlation(\"data/results/correlation_analysis/publaynet/w_constraint/sampled_similarity.json\")"
   ]
  },
  {
   "cell_type": "code",
   "execution_count": null,
   "metadata": {},
   "outputs": [],
   "source": [
    "convert_to_latex(df_corr_rico)"
   ]
  }
 ],
 "metadata": {
  "kernelspec": {
   "display_name": ".venv",
   "language": "python",
   "name": "python3"
  },
  "language_info": {
   "codemirror_mode": {
    "name": "ipython",
    "version": 3
   },
   "file_extension": ".py",
   "mimetype": "text/x-python",
   "name": "python",
   "nbconvert_exporter": "python",
   "pygments_lexer": "ipython3",
   "version": "3.11.6"
  }
 },
 "nbformat": 4,
 "nbformat_minor": 2
}
