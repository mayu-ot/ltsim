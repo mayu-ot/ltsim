{
 "cells": [
  {
   "cell_type": "code",
   "execution_count": null,
   "metadata": {},
   "outputs": [],
   "source": [
    "%cd ../"
   ]
  },
  {
   "cell_type": "code",
   "execution_count": null,
   "metadata": {},
   "outputs": [],
   "source": [
    "from layout_eval.measures.mmd import estimate_mmd, convert_emd_to_affinity\n",
    "from experiments.response_analysis import _load_xx_xy\n",
    "import numpy as np\n",
    "import os\n",
    "import seaborn as sns\n",
    "import matplotlib.pyplot as plt\n",
    "import pandas as pd"
   ]
  },
  {
   "cell_type": "code",
   "execution_count": null,
   "metadata": {},
   "outputs": [],
   "source": [
    "def mmd_on_subset(xx, yy, xy, sample_size):\n",
    "    idx = np.random.choice(len(xx), size=sample_size, replace=False)\n",
    "    xx_ = xx[idx][:, idx]\n",
    "    xy_ = xy[:, idx]\n",
    "    mmd = estimate_mmd(xx_, yy, xy_)\n",
    "    return mmd\n",
    "\n",
    "def run_downsample_exp(base_dir, yy_file):\n",
    "    yy = np.load(yy_file)\n",
    "    sigma = np.median(yy[np.triu_indices(len(yy))])\n",
    "    yy = convert_emd_to_affinity(yy, sigma)\n",
    "\n",
    "    results = {\"sample_size\": [], \"mmd\": [], \"noise_rate\": []}\n",
    "    for noise_rate in [0.1, 0.2, 0.3, 0.4, 0.5]:\n",
    "        file_dir = os.path.join(base_dir, f\"elem_noise_rate_{noise_rate}\")\n",
    "        for file in os.listdir(file_dir):\n",
    "            if file.endswith(\".csv\"):\n",
    "                xx, xy = _load_xx_xy(os.path.join(file_dir, file))\n",
    "                xx = convert_emd_to_affinity(xx, sigma)\n",
    "                xy = convert_emd_to_affinity(xy, sigma)\n",
    "                mmd = estimate_mmd(xx, yy, xy)\n",
    "                results[\"sample_size\"].append(len(xx))\n",
    "                results[\"mmd\"].append(mmd)\n",
    "                results[\"noise_rate\"].append(noise_rate)\n",
    "\n",
    "                for sample_size in [100, 200, 500, 1000, 1500]:\n",
    "                    for _ in range(10):\n",
    "                        mmd = mmd_on_subset(xx, yy, xy, sample_size)\n",
    "                        results[\"sample_size\"].append(sample_size)\n",
    "                        results[\"mmd\"].append(mmd)\n",
    "                        results[\"noise_rate\"].append(noise_rate)\n",
    "    return results"
   ]
  },
  {
   "cell_type": "code",
   "execution_count": null,
   "metadata": {},
   "outputs": [],
   "source": [
    "results = run_downsample_exp(\"data/dataflow/outputs/response_analysis/small_spatial_and_label_noise\", \"data/mmd/rico_val_emd_yy.npy\")"
   ]
  },
  {
   "cell_type": "code",
   "execution_count": null,
   "metadata": {},
   "outputs": [],
   "source": [
    "plt.figure(figsize=(4, 4))\n",
    "ax = plt.gca()\n",
    "sns.lineplot(x=\"sample_size\", y=\"mmd\", hue=\"noise_rate\", data=results, palette=\"crest\", ax=ax)\n",
    "ax.set_xlabel(\"Sample Size\")\n",
    "ax.set_ylabel(\"MMD\")\n",
    "sns.despine()\n",
    "plt.savefig(\"figs/sample_size_analysis.pdf\", bbox_inches=\"tight\")"
   ]
  },
  {
   "cell_type": "code",
   "execution_count": null,
   "metadata": {},
   "outputs": [],
   "source": []
  }
 ],
 "metadata": {
  "kernelspec": {
   "display_name": ".venv",
   "language": "python",
   "name": "python3"
  },
  "language_info": {
   "codemirror_mode": {
    "name": "ipython",
    "version": 3
   },
   "file_extension": ".py",
   "mimetype": "text/x-python",
   "name": "python",
   "nbconvert_exporter": "python",
   "pygments_lexer": "ipython3",
   "version": "3.11.6"
  }
 },
 "nbformat": 4,
 "nbformat_minor": 2
}
