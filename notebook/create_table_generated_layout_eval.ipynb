{
 "cells": [
  {
   "cell_type": "code",
   "execution_count": null,
   "metadata": {},
   "outputs": [],
   "source": [
    "%cd ../"
   ]
  },
  {
   "cell_type": "code",
   "execution_count": null,
   "metadata": {},
   "outputs": [],
   "source": [
    "import pandas as pd"
   ]
  },
  {
   "cell_type": "code",
   "execution_count": null,
   "metadata": {},
   "outputs": [],
   "source": [
    "def create_table(res_file):\n",
    "    df = pd.read_csv(res_file, index_col=None)\n",
    "    df = df[[\"model\", \"measure\", \"value\", \"task\"]]\n",
    "        \n",
    "    # Replace measure and model names\n",
    "    measure_map = {\n",
    "        \"doc_sim\": \"DocSim\", \n",
    "        \"max_iou\": \"\\maxiou{}\", \n",
    "        \"latsim\": \"\\ourmeasure{}\", \n",
    "        \"mean_iou\": \"MeanIoU\", \n",
    "        }\n",
    "    df.measure = df.measure.map(measure_map)\n",
    "    model_map = {\"bart\": \"BART\", \"blt\": \"BLT\", \"vqdiffusion\": \"VQDiffusion\", \"layoutdm\": \"LayoutDM\", \"maskgit\": \"MaskGIT\"}\n",
    "    df.model = df.model.map(model_map)\n",
    "\n",
    "    # for each (\"measure\", \"model\"), compute mean\n",
    "    summary = {\"measure\": [], \"model\": [], \"mean\": [], \"task\": []}\n",
    "    for task in df.task.unique():\n",
    "        for model in df.model.unique():\n",
    "            for measure in df.measure.unique():\n",
    "                value = df[(df.task == task) & (df.model == model) & (df.measure == measure)].value\n",
    "                summary[\"measure\"].append(measure)\n",
    "                summary[\"model\"].append(model)\n",
    "                summary[\"mean\"].append(value.mean())\n",
    "                summary[\"task\"].append(task)\n",
    "\n",
    "    summary = pd.DataFrame(summary)\n",
    "    summaries = {}\n",
    "    for task in summary.task.unique():\n",
    "        sub_summary = summary[summary.task == task]\n",
    "        sub_summary = sub_summary.pivot(index=\"model\", columns=\"measure\", values=\"mean\")\n",
    "        # x100 for visibility\n",
    "        sub_summary = sub_summary * 100\n",
    "        summaries[task] = sub_summary\n",
    "\n",
    "    return summaries\n",
    "\n",
    "def load_table_uncond(res_file):\n",
    "    df = pd.read_csv(res_file, index_col=None)\n",
    "    df = df[[\"model\", \"measure\", \"value\"]]\n",
    "    measure_map = {\"doc_sim\": \"DocSim\", \"max_iou\": \"\\maxiou{}\", \"mmd\": \"\\ourmeasure{}-MMD\", \"mean_iou\": \"MeanIoU\", \"fid\": \"FID\"}\n",
    "    df.measure = df.measure.map(measure_map)\n",
    "    model_map = {\"bart\": \"BART\", \"blt\": \"BLT\", \"vqdiffusion\": \"VQDiffusion\", \"layoutdm\": \"LayoutDM\", \"maskgit\": \"MaskGIT\"}\n",
    "    df.model = df.model.map(model_map)\n",
    "    # x100 for max_iou and latsim\n",
    "    df.loc[df.measure.isin([\"\\maxiou{}\", \"\\ourmeasure{}-MMD\"]), \"value\"] *= 100\n",
    "\n",
    "    # for each (\"measure\", \"model\"), compute mean\n",
    "    summary = {\"measure\": [], \"model\": [], \"mean\": []}\n",
    "    for model in df.model.unique():\n",
    "        for measure in df.measure.unique():\n",
    "            mean = df[(df.model == model) & (df.measure == measure)][\"value\"].mean()\n",
    "            summary[\"measure\"].append(measure)\n",
    "            summary[\"model\"].append(model)\n",
    "            summary[\"mean\"].append(mean)\n",
    "\n",
    "    summary = pd.DataFrame(summary)\n",
    "    summary = summary.pivot(index=\"model\", columns=\"measure\", values=\"mean\")\n",
    "    # reorder columns\n",
    "    summary = summary[[\"\\maxiou{}\", \"FID\", \"\\ourmeasure{}-MMD\"]]\n",
    "    return summary"
   ]
  },
  {
   "cell_type": "markdown",
   "metadata": {},
   "source": [
    "# Create a table for unconditional & conditional generation"
   ]
  },
  {
   "cell_type": "code",
   "execution_count": null,
   "metadata": {},
   "outputs": [],
   "source": [
    "rico_cond= create_table(\"data/results/eval_conditional/rico/result.csv\")[\"c\"]\n",
    "publay_cond= create_table(\"data/results/eval_conditional/publaynet/result_c.csv\")[\"c\"]\n",
    "res_cond = {\"textsc{RICO}\": rico_cond, \"textsc{PubLayNet}\": publay_cond}\n",
    "res_cond = pd.concat(res_cond, axis=0)\n",
    "\n",
    "rico_cond_rank = rico_cond.rank(axis=0, ascending=True)\n",
    "publay_cond_rank = publay_cond.rank(axis=0, ascending=True)\n",
    "cond_rank = {\"textsc{RICO}\": rico_cond_rank, \"textsc{PubLayNet}\": publay_cond_rank}\n",
    "cond_rank = pd.concat(cond_rank, axis=0)\n",
    "\n",
    "rico_uncond = load_table_uncond(\"data/results/eval_unconditional/rico_results.csv\")\n",
    "publay_uncond = load_table_uncond(\"data/results/eval_unconditional/publaynet_results.csv\")\n",
    "res_uncond = {\"textsc{RICO}\": rico_uncond, \"textsc{PubLayNet}\": publay_uncond}\n",
    "res_uncond = pd.concat(res_uncond, axis=0)\n",
    "\n",
    "rico_uncond_rank = pd.concat((rico_uncond[[\"\\maxiou{}\"]].rank(axis=0, ascending=True), rico_uncond[[\"\\ourmeasure{}-MMD\", \"FID\"]].rank(axis=0, ascending=False)), axis=1)\n",
    "publay_uncond_rank = pd.concat((publay_uncond[[\"\\maxiou{}\"]].rank(axis=0, ascending=True), publay_uncond[[\"\\ourmeasure{}-MMD\", \"FID\"]].rank(axis=0, ascending=False)), axis=1)\n",
    "uncond_rank = {\"textsc{RICO}\": rico_uncond_rank, \"textsc{PubLayNet}\": publay_uncond_rank}\n",
    "uncond_rank = pd.concat(uncond_rank, axis=0)\n",
    "\n",
    "rank = {\"Label-conditioned Gen.\": cond_rank, \"Unconditional Gen.\": uncond_rank}\n",
    "rank = pd.concat(rank, axis=1)\n",
    "\n",
    "table = pd.concat({\"Unconditional Gen.\": res_uncond, \"Label-conditioned Gen.\": res_cond}, axis=1)\n",
    "table = table[[\"Unconditional Gen.\", \"Label-conditioned Gen.\"]]\n",
    "\n",
    "styler = table.style\\\n",
    ".background_gradient(cmap=\"Blues\", gmap=rank, axis=None, high=0.5)\\\n",
    ".format(\"{:.2f}\")\n",
    "# table.to_latex(\"tbl/eval_generated_summary.tex\", float_format=\"%.2f\")\n",
    "styler.to_latex(\"tbl/eval_generated_summary.tex\", convert_css=True, hrules=True, position_float=\"centering\")\n",
    "styler"
   ]
  },
  {
   "cell_type": "markdown",
   "metadata": {},
   "source": [
    "# Full results (in supplement)"
   ]
  },
  {
   "cell_type": "code",
   "execution_count": null,
   "metadata": {},
   "outputs": [],
   "source": [
    "rico_cond= create_table(\"data/results/eval_conditional/rico/result.csv\")[\"c\"]\n",
    "publay_cond= create_table(\"data/results/eval_conditional/publaynet/result_c.csv\")[\"c\"]\n",
    "res_cond = {\"textsc{RICO}\": rico_cond, \"textsc{PubLayNet}\": publay_cond}\n",
    "res_cond = pd.concat(res_cond, axis=0)\n",
    "\n",
    "rico_cond_rank = rico_cond.rank(axis=0, ascending=True)\n",
    "publay_cond_rank = publay_cond.rank(axis=0, ascending=True)\n",
    "cond_rank = {\"textsc{RICO}\": rico_cond_rank, \"textsc{PubLayNet}\": publay_cond_rank}\n",
    "cond_rank = pd.concat(cond_rank, axis=0)\n",
    "\n",
    "rico_uncond = load_table_uncond(\"data/results/eval_unconditional/rico_results.csv\")\n",
    "publay_uncond = load_table_uncond(\"data/results/eval_unconditional/publaynet_results.csv\")\n",
    "res_uncond = {\"textsc{RICO}\": rico_uncond, \"textsc{PubLayNet}\": publay_uncond}\n",
    "res_uncond = pd.concat(res_uncond, axis=0)\n",
    "\n",
    "rico_uncond_rank = pd.concat((rico_uncond[[\"\\maxiou{}\"]].rank(axis=0, ascending=True), rico_uncond[[\"\\ourmeasure{}-MMD\", \"FID\"]].rank(axis=0, ascending=False)), axis=1)\n",
    "publay_uncond_rank = pd.concat((publay_uncond[[\"\\maxiou{}\"]].rank(axis=0, ascending=True), publay_uncond[[\"\\ourmeasure{}-MMD\", \"FID\"]].rank(axis=0, ascending=False)), axis=1)\n",
    "uncond_rank = {\"textsc{RICO}\": rico_uncond_rank, \"textsc{PubLayNet}\": publay_uncond_rank}\n",
    "uncond_rank = pd.concat(uncond_rank, axis=0)\n",
    "\n",
    "rico_completion= create_table(\"data/results/eval_conditional/rico/result.csv\")[\"partial\"]\n",
    "publay_completion= create_table(\"data/results/eval_conditional/publaynet/partial_result.csv\")[\"partial\"]\n",
    "res_completion = {\"textsc{RICO}\": rico_completion, \"textsc{PubLayNet}\": publay_completion}\n",
    "res_completion = pd.concat(res_completion, axis=0)\n",
    "\n",
    "rico_comp_rank = rico_completion.rank(axis=0, ascending=True)\n",
    "publay_comp_rank = publay_completion.rank(axis=0, ascending=True)\n",
    "comp_rank = {\"textsc{RICO}\": rico_comp_rank, \"textsc{PubLayNet}\": publay_comp_rank}\n",
    "comp_rank = pd.concat(comp_rank, axis=0)\n",
    "\n",
    "rank = {\"Label-conditioned Gen.\": cond_rank, \"Completion Gen.\": comp_rank, \"Unconditional Gen.\": uncond_rank}\n",
    "rank = pd.concat(rank, axis=1)\n",
    "\n",
    "table = pd.concat({\"Unconditional Gen.\": res_uncond, \"Completion Gen.\": res_completion, \"Label-conditioned Gen.\": res_cond}, axis=1)\n",
    "table = table[[\"Label-conditioned Gen.\", \"Completion Gen.\", \"Unconditional Gen.\"]]\n",
    "\n",
    "styler = table.style\\\n",
    ".background_gradient(cmap=\"Blues\", gmap=rank, axis=None, high=0.5)\\\n",
    ".format(\"{:.2f}\")\n",
    "styler"
   ]
  },
  {
   "cell_type": "code",
   "execution_count": null,
   "metadata": {},
   "outputs": [],
   "source": [
    "styler = res_completion.style\\\n",
    ".background_gradient(cmap=\"Blues\", gmap=comp_rank, axis=None, high=0.5)\\\n",
    ".format(\"{:.2f}\")\n",
    "styler\n",
    "print(styler.to_latex(convert_css=True, hrules=True, position_float=\"raggedright\"))"
   ]
  },
  {
   "cell_type": "code",
   "execution_count": null,
   "metadata": {},
   "outputs": [],
   "source": []
  }
 ],
 "metadata": {
  "kernelspec": {
   "display_name": ".venv",
   "language": "python",
   "name": "python3"
  },
  "language_info": {
   "codemirror_mode": {
    "name": "ipython",
    "version": 3
   },
   "file_extension": ".py",
   "mimetype": "text/x-python",
   "name": "python",
   "nbconvert_exporter": "python",
   "pygments_lexer": "ipython3",
   "version": "3.11.6"
  }
 },
 "nbformat": 4,
 "nbformat_minor": 2
}
